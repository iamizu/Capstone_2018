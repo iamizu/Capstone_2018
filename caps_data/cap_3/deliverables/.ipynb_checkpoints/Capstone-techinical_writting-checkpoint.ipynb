{
 "cells": [
  {
   "cell_type": "markdown",
   "metadata": {
    "collapsed": true
   },
   "source": [
    "### PREDICTING MEDICARE COST AND CLASSIFYING WETHER HIGH OR LOW WITH RESPECT TO 75TH PERCENTILE COST RANGE\n",
    "\n",
    "\n",
    "\n",
    "\n",
    "## SUMMARY\n",
    "This report foccuses on Medicare cost in different states within the United State Of America, The variations in these prices as a result in numbers of features, hence by identifying this predictive features will definitely go a long way in fixing or regulating the pricing of medicare nationwide. Predicting medicare cost base on these selected features and classifying how high or low with respect to the 75th percentile of the medicare cost. This report concludes that there are several factors that can accurately predict medicare cost of all states in the United States of America however some of these factors were employed in this analysis.\n",
    "\n",
    "\n",
    "\n",
    "## INTRODUCTION\n",
    "Medicare premium and deductible rates have played a large role in beneficiaries’ budgets. This is why premium rate increases can be so damaging.\n",
    "Changes to monthly premium and annual deductible rates have a significant impact on the nation’s healthcare system and people’s individual finances. For this project i will focus on both inferential and predictive analysis of indeividual states, medicare cost. First my assumption that they are certain features that are indictive of medicare states pricing is validated in the EDA section using series of scarter plots and stats model with a score a indicating that 94% of medicare cost is expalined in the selected or available predeictor variables.\n",
    "\n",
    "\n",
    "\n",
    "## METHADOLOGY\n",
    "\n",
    "### DATA\n",
    "The datasets were collected from Medicare.gov, datausa.oi and healthdata.gov different data subsets were generated from this initial datasets through cleaning and munging for the purpose of EDA and Modeling. for the purpose of a clearer analysis at this time i am focusing on the variations of medicare cost among states and not among hospitals nationwide, so grouping all medicare cost by state and using python aggregate function to find the mean of medicare costs which became our target varible.\n",
    "For the predictors which were gathered base on basic intiution went through feature selection using stats model (Ordinary Least Squares) and the result were interpreted in the Capstone-exploratory-data-analysis-and-Modeling jupyter notebook.\n",
    "\n",
    "\n",
    "\n",
    "# RESULTS\n",
    "The models used in this analysis are as follows Stats Model (OLS), LinearRegression Model, RandomForest Regressor and RandomForest Classifier Model. In order to search for optimal set of hyperparameters gridsearching was introduced setting arguments to the follow n_estimators': [8, 16, 20], criterion' : ['mse', 'mae'] and n_jobs' : [-1, 1] for the Regressor model and n_estimators': [10, 20, 30], criterion': ['gini', 'entropy'], max_features': ['auto', 'log2', 'sqrt'] and n_jobs': [-1, 1] with criterion': gini, max_features': log2, n_estimators': 10, n_jobs': 1 and criterion': mae, n_estimators': 16, n_jobs': -1 emerging best parameters meaning the parameters that have been found to perform with the best score in the Classifier and Regressor model respectively. \n",
    "\n",
    "Focused more on not overfitting the best model on the data having in mind that the best dfeinition of a good model is one that's not only best for our sample data but the best overall. So to validate the model's ability to generalize to new data splitting the data into subsets of different test_sizes: data on which the model was trained on and data on which the model was tested on was implored, More like the basic type of hold-out known as train/test split.\n",
    "Also a K-Fold Cross-validation was introduced setting it to 5 folds splits and evaluating model performance with R2 since it does not depend on the scale of the target variable.\n",
    "\n",
    "After training our model on the training data and then test our Regression and Classification models on the test data, the respective modells achieved a test accuracy of 84% from the gridesearch RandomForest Regressor, K-Fold Cross-Validation with R2 score of 86% of a linear regression, A linear Regression with score of 89%, Linear Rgression on PCA features with R2 score of 89% and for the Classification analysis with baseline of 74% and model performance of 94% having AUC Score of 99%.\n",
    "\n",
    "RandomForest Rgressor model predicted the following features base on their importance towrds predicting correctly the cost of medicare among states i.e ratio_avgspend, Income, ratio_num_prov, ratio_total_disch, Adult_smoking, ratio_median, TaxRate, etc.\n",
    "\n",
    "\n",
    "\n",
    "## CONCLUTION AND SHORTCOMINGS\n",
    "While the predictors in this analysis contributed to the predicting medicare cost using Regression model and categorizing wether high or low the medicare cost using Classification model I believe more features should be considered. The varibles used do not totally reflect all the possible factors that are indictive of ,edicare cost among states. Also they could be a time series effect which at this time was not included due to lack of data.\n",
    "Future analysis on this subject should consider incoporating additional features such as Age demographics, time and many more."
   ]
  },
  {
   "cell_type": "code",
   "execution_count": null,
   "metadata": {
    "collapsed": true
   },
   "outputs": [],
   "source": []
  }
 ],
 "metadata": {
  "kernelspec": {
   "display_name": "Python [conda env:Anaconda3]",
   "language": "python",
   "name": "conda-env-Anaconda3-py"
  },
  "language_info": {
   "codemirror_mode": {
    "name": "ipython",
    "version": 3
   },
   "file_extension": ".py",
   "mimetype": "text/x-python",
   "name": "python",
   "nbconvert_exporter": "python",
   "pygments_lexer": "ipython3",
   "version": "3.6.3"
  }
 },
 "nbformat": 4,
 "nbformat_minor": 2
}
