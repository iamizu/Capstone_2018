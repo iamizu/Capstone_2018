{
 "cells": [
  {
   "cell_type": "markdown",
   "metadata": {
    "collapsed": true
   },
   "source": [
    "##        PREDICTING STATES'  MEDICARE COST\n",
    "\n",
    "\n",
    "\n",
    "## SUMMARY\n",
    "This report focuses on Medicare cost in various states within the United State Of America, The variations in these prices as a result of various features, hence by identifying this predictive features will definitely go a long way in fixing or regulating the pricing of medicare nationwide. Predicting medicare cost base on these selected features and classifying how high or low using 75th percentile of medicare cost.\n",
    "This report concludes that there are several factors that can accurately predict medicare cost of all states in the United States of America however some of these factors were employed in this analysis.\n",
    "\n",
    "\n",
    "\n",
    "## INTRODUCTION\n",
    "Medicare premium and deductible rates have played a large role in beneficiaries’ budgets. This is why premium rate increases can be so damaging.\n",
    "Changes to monthly premium and annual deductible rates have a significant impact on the nation’s healthcare system and people’s individual finances. For this project i will focus on both inferential and predictive analysis on individual states' medicare cost. First my assumption that they are certain features that are indictive of medicare states pricing is validated in the EDA section using series of scarter plots and stats model with a score a indicating that 94% of medicare cost is expalined in the selected or available predeictor variables.\n",
    "\n",
    "\n",
    "\n",
    "\n",
    "## METHADOLOGY\n",
    "\n",
    "### DATA\n",
    "The datasets were collected from Medicare.gov, datausa.oi and healthdata.gov different data subsets were generated from this initial datasets through cleaning and munging for the purpose of EDA and Modeling. for the purpose of a clearer analysis at this time i am focusing on the variations of medicare cost among states and not among hospitals nationwide, so grouping all medicare cost by state and using python aggregate function to find the mean of medicare costs which became our target varible.\n",
    "For the predictors which were gathered base on basic intiution went through feature selection using stats model (Ordinary Least Squares) and the result were interpreted in the Capstone-exploratory-data-analysis-and-Modeling jupyter notebook.\n",
    "\n",
    "\n",
    "\n",
    "# RESULTS\n",
    "The models used in this analysis are as follows Stats Model (OLS), LinearRegression Model, RandomForest Regressor and RandomForest Classifier Model. In order to search for optimal set of hyperparameters gridsearching was introduced setting arguments to the follow n_estimators': [8, 16, 20], criterion' : ['mse', 'mae'] and n_jobs' : [-1, 1] for the Regressor model and n_estimators': [10, 20, 30], criterion': ['gini', 'entropy'], max_features': ['auto', 'log2', 'sqrt'] and n_jobs': [-1, 1] with criterion': gini, max_features': log2, n_estimators': 10, n_jobs': 1 and criterion': mae, n_estimators': 16, n_jobs': -1 emerging best parameters meaning the parameters that have been found to perform with the best score in the Classifier and Regressor model respectively. \n",
    "\n",
    "Focused more on not overfitting the best model on the data having in mind that the best dfeinition of a good model is one that's not only best for our sample data but the best overall. So to validate the model's ability to generalize to new data splitting the data into subsets of different test_sizes: data on which the model was trained on and data on which the model was tested on was implored, More like the basic type of hold-out known as train/test split.\n",
    "Also a K-Fold Cross-validation was introduced setting it to 5 folds splits and evaluating model performance with R2 since it does not depend on the scale of the target variable.\n",
    "\n",
    "After training our model on the training data and then test our Regression and Classification models on the test data, these models achieved a test accuracy of 86% from the gridesearch RandomForest Regressor, K-Fold Cross-Validation with R2 score of 86% of a linear regression, A linear Regression with score of 90%, Linear Rgression on PCA features with R2 score of 90% and for the Classification analysis with baseline of 74% and model performance of 95% having AUC Score of 99% respectively.\n",
    "\n",
    "RandomForest Rgressor model predicted the following features base on their importance towards predicting correctly the cost of medicare among states with ratio_avgspend, Tax rate, children in poverty, Income, Adult_smoking and number of providers being the most important features\n",
    "\n",
    "\n",
    "\n",
    "## CONCLUTION AND SHORTCOMINGS\n",
    "At this time this report concludes that some of the selected features are either negatively or  positively correlated with medicare cost, In the sense that a one unit increase in them either increases or reduces medicare cost. However addition of more significant parameters can accurately predict medicare cost across states, The variables used here do not totally reflect all possible factors that are most predictive of medicare cost across states.\n",
    "Future work should consider the incorporation of additional features such as;\n",
    "\n",
    "1. Age demographics \n",
    "\n",
    "2. A dive into types of medicare\n",
    "\n",
    "3. Time trends in the healthcare marketplace\n",
    "\n",
    "4. Plan category\n"
   ]
  },
  {
   "cell_type": "code",
   "execution_count": null,
   "metadata": {
    "collapsed": true
   },
   "outputs": [],
   "source": []
  }
 ],
 "metadata": {
  "kernelspec": {
   "display_name": "Python [conda env:Anaconda3]",
   "language": "python",
   "name": "conda-env-Anaconda3-py"
  },
  "language_info": {
   "codemirror_mode": {
    "name": "ipython",
    "version": 3
   },
   "file_extension": ".py",
   "mimetype": "text/x-python",
   "name": "python",
   "nbconvert_exporter": "python",
   "pygments_lexer": "ipython3",
   "version": "3.6.3"
  }
 },
 "nbformat": 4,
 "nbformat_minor": 2
}
